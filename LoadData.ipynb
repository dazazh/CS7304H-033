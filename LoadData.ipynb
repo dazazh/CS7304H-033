{
 "cells": [
  {
   "cell_type": "code",
   "execution_count": 4,
   "metadata": {},
   "outputs": [
    {
     "name": "stdout",
     "output_type": "stream",
     "text": [
      "文件已保存到 /data2/yuhao/class/CS7304H-033/SVM/svm_predictions.csv\n"
     ]
    }
   ],
   "source": [
    "import pandas as pd\n",
    "\n",
    "# 1. 读取 CSV 文件\n",
    "file_path = '/data2/yuhao/class/CS7304H-033/SVM/svm_predictions.csv'  # 替换为你的文件路径\n",
    "df = pd.read_csv(file_path)\n",
    "\n",
    "# 2. 确保 `Id` 列存在并为数值型\n",
    "if 'Id' in df.columns:\n",
    "    try:\n",
    "        df['Id'] = df['Id'].astype(int) - 1  # 转换为整数并减去 1\n",
    "    except ValueError:\n",
    "        print(\"Id 列包含非整数值，请检查数据！\")\n",
    "else:\n",
    "    print(\"CSV 文件中没有 'Id' 列！\")\n",
    "\n",
    "# 3. 保存修改后的文件\n",
    "output_path = '/data2/yuhao/class/CS7304H-033/SVM/svm_predictions.csv'  # 替换为输出文件路径\n",
    "df.to_csv(output_path, index=False)\n",
    "\n",
    "print(f\"文件已保存到 {output_path}\")\n"
   ]
  },
  {
   "cell_type": "code",
   "execution_count": null,
   "metadata": {},
   "outputs": [
    {
     "name": "stdout",
     "output_type": "stream",
     "text": [
      "处理完成，已保存到 KNN/predictions.csv\n"
     ]
    }
   ],
   "source": [
    "import pandas as pd\n",
    "\n",
    "# 读取 CSV 文件\n",
    "input_file = \"KNN/knn_pca_predictions.csv\"  # 替换为你的文件名\n",
    "output_file = \"KNN/knn_pca_predictions.csv\"  # 替换为输出文件名\n",
    "\n",
    "# 加载数据\n",
    "df = pd.read_csv(input_file)\n",
    "\n",
    "# 添加 Id 列，从 1 开始编号\n",
    "df.insert(0, 'Id', range(0, len(df)))\n",
    "\n",
    "# 保存到新的 CSV 文件\n",
    "df.to_csv(output_file, index=False)\n",
    "\n",
    "print(f\"处理完成，已保存到 {output_file}\")\n"
   ]
  },
  {
   "cell_type": "code",
   "execution_count": 1,
   "metadata": {},
   "outputs": [
    {
     "name": "stdout",
     "output_type": "stream",
     "text": [
      "标签已随机化并保存到 'train_randomized.csv'\n"
     ]
    }
   ],
   "source": [
    "import pandas as pd\n",
    "import numpy as np\n",
    "\n",
    "# 1. 加载 train.csv 文件\n",
    "data = pd.read_csv(\"Datasets/train.csv\", header=None)\n",
    "\n",
    "# 2. 随机生成 [0, 100) 的整数，替换最后一列的标签\n",
    "data.iloc[:, -1] = np.random.randint(0, 100, size=data.shape[0])\n",
    "\n",
    "# 3. 保存修改后的文件\n",
    "data.to_csv(\"Datasets/train_randomized.csv\", index=False, header=False)\n",
    "\n",
    "print(\"标签已随机化并保存到 'train_randomized.csv'\")\n"
   ]
  },
  {
   "cell_type": "code",
   "execution_count": null,
   "metadata": {},
   "outputs": [],
   "source": [
    "# 标准化特征\n",
    "scaler = StandardScaler()\n",
    "X_train = scaler.fit_transform(X_train)\n",
    "X_val = scaler.transform(X_val)\n"
   ]
  },
  {
   "cell_type": "code",
   "execution_count": null,
   "metadata": {},
   "outputs": [],
   "source": [
    "# 定义SVM模型\n",
    "svm = SVC(kernel='rbf', random_state=42)\n",
    "\n",
    "# 超参数搜索\n",
    "param_grid = {\n",
    "    'C': [0.1, 1, 10, 100],       # 正则化参数\n",
    "    'gamma': ['scale', 0.001, 0.01, 0.1, 1]  # RBF核的gamma\n",
    "}\n",
    "\n",
    "grid_search = GridSearchCV(svm, param_grid, cv=5, scoring='accuracy', verbose=1, n_jobs=-1)\n",
    "grid_search.fit(X_train, y_train)\n",
    "\n",
    "# 输出最佳参数\n",
    "print(\"Best Parameters:\", grid_search.best_params_)\n"
   ]
  },
  {
   "cell_type": "code",
   "execution_count": null,
   "metadata": {},
   "outputs": [],
   "source": [
    "# 在验证集上评估性能\n",
    "best_svm = grid_search.best_estimator_\n",
    "y_val_pred = best_svm.predict(X_val)\n",
    "\n",
    "print(\"Validation Accuracy:\", accuracy_score(y_val, y_val_pred))\n",
    "print(classification_report(y_val, y_val_pred))\n"
   ]
  },
  {
   "cell_type": "code",
   "execution_count": null,
   "metadata": {},
   "outputs": [],
   "source": [
    "# 加载测试集数据\n",
    "X_test = pd.read_csv('test_features.csv').values\n",
    "y_test = pd.read_csv('test_labels.csv').values.ravel()\n",
    "\n",
    "# 测试集标准化\n",
    "X_test = scaler.transform(X_test)\n",
    "\n",
    "# 测试集预测\n",
    "y_test_pred = best_svm.predict(X_test)\n",
    "\n",
    "print(\"Test Accuracy:\", accuracy_score(y_test, y_test_pred))\n",
    "print(classification_report(y_test, y_test_pred))\n"
   ]
  }
 ],
 "metadata": {
  "kernelspec": {
   "display_name": "chem",
   "language": "python",
   "name": "python3"
  },
  "language_info": {
   "codemirror_mode": {
    "name": "ipython",
    "version": 3
   },
   "file_extension": ".py",
   "mimetype": "text/x-python",
   "name": "python",
   "nbconvert_exporter": "python",
   "pygments_lexer": "ipython3",
   "version": "3.8.20"
  }
 },
 "nbformat": 4,
 "nbformat_minor": 2
}
